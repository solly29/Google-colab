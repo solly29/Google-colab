{
  "nbformat": 4,
  "nbformat_minor": 0,
  "metadata": {
    "colab": {
      "name": "협업필터링test.ipynb",
      "provenance": [],
      "collapsed_sections": [],
      "mount_file_id": "1Ew-GF8wZMnbLWDfCSSXgPERbbuD6rAdj",
      "authorship_tag": "ABX9TyNrpicOmrM29eTsgtdZsJph",
      "include_colab_link": true
    },
    "kernelspec": {
      "name": "python3",
      "display_name": "Python 3"
    }
  },
  "cells": [
    {
      "cell_type": "markdown",
      "metadata": {
        "id": "view-in-github",
        "colab_type": "text"
      },
      "source": [
        "<a href=\"https://colab.research.google.com/github/solly29/Google-colab/blob/master/%ED%98%91%EC%97%85%ED%95%84%ED%84%B0%EB%A7%81test.ipynb\" target=\"_parent\"><img src=\"https://colab.research.google.com/assets/colab-badge.svg\" alt=\"Open In Colab\"/></a>"
      ]
    },
    {
      "cell_type": "code",
      "metadata": {
        "id": "_Ffphbhlsluq",
        "colab_type": "code",
        "outputId": "48281b6c-a403-43a5-ad3f-be890b03131c",
        "colab": {
          "base_uri": "https://localhost:8080/",
          "height": 233
        }
      },
      "source": [
        "!wget http://files.grouplens.org/datasets/movielens/ml-latest-small.zip\n",
        "!ls ml-latest-small.zip"
      ],
      "execution_count": 1,
      "outputs": [
        {
          "output_type": "stream",
          "text": [
            "--2020-04-09 09:24:02--  http://files.grouplens.org/datasets/movielens/ml-latest-small.zip\n",
            "Resolving files.grouplens.org (files.grouplens.org)... 128.101.65.152\n",
            "Connecting to files.grouplens.org (files.grouplens.org)|128.101.65.152|:80... connected.\n",
            "HTTP request sent, awaiting response... 200 OK\n",
            "Length: 978202 (955K) [application/zip]\n",
            "Saving to: ‘ml-latest-small.zip’\n",
            "\n",
            "\rml-latest-small.zip   0%[                    ]       0  --.-KB/s               \rml-latest-small.zip 100%[===================>] 955.28K  --.-KB/s    in 0.1s    \n",
            "\n",
            "2020-04-09 09:24:02 (8.02 MB/s) - ‘ml-latest-small.zip’ saved [978202/978202]\n",
            "\n",
            "ml-latest-small.zip\n"
          ],
          "name": "stdout"
        }
      ]
    },
    {
      "cell_type": "code",
      "metadata": {
        "id": "5j9HVtSvtasa",
        "colab_type": "code",
        "outputId": "f0271533-bd3e-47eb-81ad-b317d6cb96c1",
        "colab": {
          "base_uri": "https://localhost:8080/",
          "height": 161
        }
      },
      "source": [
        "!unzip ml-latest-small.zip\n",
        "!ls ml-latest-small/"
      ],
      "execution_count": 2,
      "outputs": [
        {
          "output_type": "stream",
          "text": [
            "Archive:  ml-latest-small.zip\n",
            "   creating: ml-latest-small/\n",
            "  inflating: ml-latest-small/links.csv  \n",
            "  inflating: ml-latest-small/tags.csv  \n",
            "  inflating: ml-latest-small/ratings.csv  \n",
            "  inflating: ml-latest-small/README.txt  \n",
            "  inflating: ml-latest-small/movies.csv  \n",
            "links.csv  movies.csv  ratings.csv  README.txt\ttags.csv\n"
          ],
          "name": "stdout"
        }
      ]
    },
    {
      "cell_type": "code",
      "metadata": {
        "id": "ppSU4M3PuKlL",
        "colab_type": "code",
        "colab": {}
      },
      "source": [
        "from pathlib import Path\n",
        "import pandas as pd # 파이썬에서 사용하는 데이터분석 라이브러리이다.\n",
        "import numpy as np"
      ],
      "execution_count": 0,
      "outputs": []
    },
    {
      "cell_type": "code",
      "metadata": {
        "id": "BggLGcixuVFG",
        "colab_type": "code",
        "outputId": "f219cad9-f7db-49a0-c008-5d20c9ceae90",
        "colab": {
          "base_uri": "https://localhost:8080/",
          "height": 204
        }
      },
      "source": [
        "data = pd.read_csv('./ml-latest-small/ratings.csv') # 트레이닝 데이터를 가지고온다.\n",
        "data.head()"
      ],
      "execution_count": 4,
      "outputs": [
        {
          "output_type": "execute_result",
          "data": {
            "text/html": [
              "<div>\n",
              "<style scoped>\n",
              "    .dataframe tbody tr th:only-of-type {\n",
              "        vertical-align: middle;\n",
              "    }\n",
              "\n",
              "    .dataframe tbody tr th {\n",
              "        vertical-align: top;\n",
              "    }\n",
              "\n",
              "    .dataframe thead th {\n",
              "        text-align: right;\n",
              "    }\n",
              "</style>\n",
              "<table border=\"1\" class=\"dataframe\">\n",
              "  <thead>\n",
              "    <tr style=\"text-align: right;\">\n",
              "      <th></th>\n",
              "      <th>userId</th>\n",
              "      <th>movieId</th>\n",
              "      <th>rating</th>\n",
              "      <th>timestamp</th>\n",
              "    </tr>\n",
              "  </thead>\n",
              "  <tbody>\n",
              "    <tr>\n",
              "      <th>0</th>\n",
              "      <td>1</td>\n",
              "      <td>1</td>\n",
              "      <td>4.0</td>\n",
              "      <td>964982703</td>\n",
              "    </tr>\n",
              "    <tr>\n",
              "      <th>1</th>\n",
              "      <td>1</td>\n",
              "      <td>3</td>\n",
              "      <td>4.0</td>\n",
              "      <td>964981247</td>\n",
              "    </tr>\n",
              "    <tr>\n",
              "      <th>2</th>\n",
              "      <td>1</td>\n",
              "      <td>6</td>\n",
              "      <td>4.0</td>\n",
              "      <td>964982224</td>\n",
              "    </tr>\n",
              "    <tr>\n",
              "      <th>3</th>\n",
              "      <td>1</td>\n",
              "      <td>47</td>\n",
              "      <td>5.0</td>\n",
              "      <td>964983815</td>\n",
              "    </tr>\n",
              "    <tr>\n",
              "      <th>4</th>\n",
              "      <td>1</td>\n",
              "      <td>50</td>\n",
              "      <td>5.0</td>\n",
              "      <td>964982931</td>\n",
              "    </tr>\n",
              "  </tbody>\n",
              "</table>\n",
              "</div>"
            ],
            "text/plain": [
              "   userId  movieId  rating  timestamp\n",
              "0       1        1     4.0  964982703\n",
              "1       1        3     4.0  964981247\n",
              "2       1        6     4.0  964982224\n",
              "3       1       47     5.0  964983815\n",
              "4       1       50     5.0  964982931"
            ]
          },
          "metadata": {
            "tags": []
          },
          "execution_count": 4
        }
      ]
    },
    {
      "cell_type": "markdown",
      "metadata": {
        "id": "5DqwdSjSF5MV",
        "colab_type": "text"
      },
      "source": [
        "# **데이터 인코딩**"
      ]
    },
    {
      "cell_type": "code",
      "metadata": {
        "id": "NkOmP8wXut4c",
        "colab_type": "code",
        "outputId": "c234a445-c415-4b4a-e4b7-cc7bf7b90819",
        "colab": {
          "base_uri": "https://localhost:8080/",
          "height": 233
        }
      },
      "source": [
        "# 먼저 데이터를 train과 validation데이터로 나눈다.\n",
        "np.random.seed(3) # 난수 생성 알고리즘 seed\n",
        "msk = np.random.rand(len(data)) < 0.8 # 난수를 생성한다(0~1사이) 이때 0.8보다 작으면 true\n",
        "train = data[msk].copy()              # msk에서 true인 값만 복사한다.\n",
        "val = data[~msk].copy()               # ~는 반전 연산자이다.\n",
        "print(train.head())\n",
        "print(val.head())"
      ],
      "execution_count": 5,
      "outputs": [
        {
          "output_type": "stream",
          "text": [
            "   userId  movieId  rating  timestamp\n",
            "0       1        1     4.0  964982703\n",
            "1       1        3     4.0  964981247\n",
            "2       1        6     4.0  964982224\n",
            "3       1       47     5.0  964983815\n",
            "6       1      101     5.0  964980868\n",
            "    userId  movieId  rating  timestamp\n",
            "4        1       50     5.0  964982931\n",
            "5        1       70     3.0  964982400\n",
            "29       1      543     4.0  964981179\n",
            "30       1      552     4.0  964982653\n",
            "32       1      590     4.0  964982546\n"
          ],
          "name": "stdout"
        }
      ]
    },
    {
      "cell_type": "code",
      "metadata": {
        "id": "DHw7PjP370rw",
        "colab_type": "code",
        "colab": {}
      },
      "source": [
        "# 다음은 Pandas의 컬럼을 범주형의 id로 인코드해주는 함수이다\n",
        "def proc_col(col, train_col=None):\n",
        "    \"\"\" Encodes a pandas column with continous ids. \"\"\"\n",
        "    # train column에서 유일한 row를 찾는다(중복을 제거한다.) 즉 사용자 혹은 영화이다\n",
        "    if train_col is not None:\n",
        "        uniq = train_col.unique()\n",
        "    else:\n",
        "        uniq = col.unique()\n",
        "    # 사용자/영화를 인덱스와 매핑해준다(딕셔너리로 만든다.)\n",
        "    # 인덱스 번호과 원소를 튜플 형태로 뽑아서 딕셔너리에 원소: 인덱스로 저장한다.\n",
        "    name2idx = {o:i for i,o in enumerate(uniq)}\n",
        "    # 그리고 그것을 포맷팅해서 리턴한다\n",
        "    # 반환할때 매핑한 dic과 numpy배열과 영화/사용자의 수를 반환한다.\n",
        "    # numpy는 인수로 받은 칼럼의 값을 name2idx의 키로 넣고 value를 배열로 저장한다.\n",
        "    return name2idx, np.array([name2idx.get(x, -1) for x in col]), len(uniq)"
      ],
      "execution_count": 0,
      "outputs": []
    },
    {
      "cell_type": "code",
      "metadata": {
        "id": "tDfF_DY_AbqC",
        "colab_type": "code",
        "colab": {}
      },
      "source": [
        "# 다음은 실제로 데이터를 인코딩으로 만들어주는 함수이다\n",
        "# 위에서 정의해준 proc_col을 사용한다\n",
        "def encode_data(df, train=None):\n",
        "    \"\"\" Encodes rating data with continous user and movie ids. \n",
        "    If train is provided, encodes df with the same encoding as train.\n",
        "    \"\"\"\n",
        "    df = df.copy()\n",
        "    for col_name in [\"userId\", \"movieId\"]:\n",
        "        train_col = None\n",
        "        if train is not None:\n",
        "            train_col = train[col_name] # train_ol에 userid나 movield의 column을 넣는다. proc_col에 teain column을 넘겨줘야된다.\n",
        "        _,col,_ = proc_col(df[col_name], train_col) # 다른값은 무시하고 배열만 받아온다.\n",
        "        df[col_name] = col              # 인덱스와 배핑한 값으로 바꿔준다.\n",
        "        df = df[df[col_name] >= 0]      # df[col_name]의 값이 -1이면 영화나 사용자가 없다는 뜻이다. 그래서 아예 그 행을 false로 만드는것 같다.\n",
        "    return df"
      ],
      "execution_count": 0,
      "outputs": []
    },
    {
      "cell_type": "code",
      "metadata": {
        "id": "gCOIEKhPFo1_",
        "colab_type": "code",
        "outputId": "04284b52-6684-40ab-91f2-f129f0fa8e5b",
        "colab": {
          "base_uri": "https://localhost:8080/",
          "height": 233
        }
      },
      "source": [
        "# Test와 Validation인코딩을 만들어준다\n",
        "# 사용자나 영화에게 순서(숫자)를 부여해준다.\n",
        "df_train = encode_data(train)\n",
        "df_val = encode_data(val, train)\n",
        "print(df_train.head())\n",
        "print(df_val.head())"
      ],
      "execution_count": 8,
      "outputs": [
        {
          "output_type": "stream",
          "text": [
            "   userId  movieId  rating  timestamp\n",
            "0       0        0     4.0  964982703\n",
            "1       0        1     4.0  964981247\n",
            "2       0        2     4.0  964982224\n",
            "3       0        3     5.0  964983815\n",
            "6       0        4     5.0  964980868\n",
            "    userId  movieId  rating  timestamp\n",
            "4        0      388     5.0  964982931\n",
            "5        0      995     3.0  964982400\n",
            "29       0      841     4.0  964981179\n",
            "30       0      567     4.0  964982653\n",
            "32       0      402     4.0  964982546\n"
          ],
          "name": "stdout"
        }
      ]
    },
    {
      "cell_type": "markdown",
      "metadata": {
        "id": "Q0W8wKc2F7xA",
        "colab_type": "text"
      },
      "source": [
        "# **임베딩 레이어**\n",
        "임베딩이란?  \n",
        "범주형 자료를 연속형 백터 형태로 변환시키는 것  \n",
        "**word Embedding**  \n",
        "자연어를 R차원의 백터로 매핑시켜주는 것. 예를들어 cat이나 mat같은 단어를 특정 차원의 백터로 바꾸어주는 것이다."
      ]
    },
    {
      "cell_type": "code",
      "metadata": {
        "id": "pWE2E06EG992",
        "colab_type": "code",
        "colab": {}
      },
      "source": [
        "import torch\n",
        "import torch.nn as nn\n",
        "import torch.nn.functional as F"
      ],
      "execution_count": 0,
      "outputs": []
    },
    {
      "cell_type": "code",
      "metadata": {
        "id": "3TtnY8OPHThU",
        "colab_type": "code",
        "outputId": "901d84af-7be3-4aca-f150-a6003158a984",
        "colab": {
          "base_uri": "https://localhost:8080/",
          "height": 125
        }
      },
      "source": [
        "# 아래의 임베딩모델은 최대 10명의 사용자나 3개의 아이템에 대한 관계를 표현한다\n",
        "# 임베딩의 숫자들은 랜덤으로 초기화 된다\n",
        "embed = nn.Embedding(10,3) # 10*3의 백터를 만든다. \n",
        "# 10명까지의 id이니 6개를 넣어준다\n",
        "a = torch.LongTensor([[1,2,0,4,5,1]])\n",
        "embed(a)"
      ],
      "execution_count": 10,
      "outputs": [
        {
          "output_type": "execute_result",
          "data": {
            "text/plain": [
              "tensor([[[-0.8929,  0.1370, -0.8028],\n",
              "         [-2.0023,  0.3582, -0.4300],\n",
              "         [ 0.0294, -0.6888,  0.1922],\n",
              "         [ 1.0960,  0.6110,  0.3892],\n",
              "         [-0.3280,  0.1259,  0.6770],\n",
              "         [-0.8929,  0.1370, -0.8028]]], grad_fn=<EmbeddingBackward>)"
            ]
          },
          "metadata": {
            "tags": []
          },
          "execution_count": 10
        }
      ]
    },
    {
      "cell_type": "markdown",
      "metadata": {
        "id": "b-TWTxS-M86C",
        "colab_type": "text"
      },
      "source": [
        "# **행렬분해 모델**\n",
        "임베딩 두개의 행 즉 벡터들의 각각 내적곱을 하는 역할을 하는 모델이다."
      ]
    },
    {
      "cell_type": "code",
      "metadata": {
        "id": "YU-yrIsTODEi",
        "colab_type": "code",
        "colab": {}
      },
      "source": [
        "class MatrixFactorization(nn.Module):\n",
        "  # init은 생성자와 같다. 메소드이름 양옆에 _가 있으면 외부에서 사용하지 말라는 뜻이다.\n",
        "  # __는 약속되어있는 메소드이다.(아마)\n",
        "  # 파이썬은 메서드에 첫 번째 인자는 항상 self이어야되고 파이썬이 자동으로 넘겨준다.\n",
        "  # self는 자기 자신 인스턴스이다.\n",
        "  def __init__(self, num_users, num_items, emb_size=100):\n",
        "    super().__init__() # 부모 생성자 호출\n",
        "    self.user_emb = nn.Embedding(num_users, emb_size)\n",
        "    self.item_emb = nn.Embedding(num_items, emb_size)\n",
        "    #  정규분포를 사용해 임베딩을 초기화한다\n",
        "    #  입베드 가중치 초기화(최소 0, 최대 0.05)\n",
        "    self.user_emb.weight.data.uniform_(0, 0.05)\n",
        "    self.item_emb.weight.data.uniform_(0, 0.05)\n",
        "  \n",
        "  # 여기서 내적곱을 해준다.\n",
        "  def forward(self, u, v):\n",
        "    u = self.user_emb(u)\n",
        "    v = self.item_emb(v)\n",
        "    return (u*v).sum(1)"
      ],
      "execution_count": 0,
      "outputs": []
    },
    {
      "cell_type": "markdown",
      "metadata": {
        "id": "Eq4EvjqMYN4K",
        "colab_type": "text"
      },
      "source": [
        "밑의 내용은 위의 행렬분해 모델이 하는일을 절차적으로 작성한것이다.  \n",
        "밑의 내용은 학습단계가 없는 절차이다."
      ]
    },
    {
      "cell_type": "code",
      "metadata": {
        "id": "m1GwwrAbRU6J",
        "colab_type": "code",
        "outputId": "2a923fcc-7fc8-40e9-bc80-cf3d42f44efd",
        "colab": {
          "base_uri": "https://localhost:8080/",
          "height": 452
        }
      },
      "source": [
        "# 임의의 테스트 데이터를 만들어본다\n",
        "# 사용자는 6명 영화는 3개로 이루어져있다\n",
        "# 사용자와 영화 평점을 각 행렬에 넣고 Pandas DF를 생성\n",
        "users = [0, 0, 1, 1, 2, 2, 3, 3, 4, 4, 5, 6, 6]\n",
        "movies = [0, 1, 1, 2, 0, 1, 0, 3, 0, 3, 3, 1, 3]\n",
        "ratings = [4, 5, 5, 3, 4, 4, 5, 2, 1, 4, 5, 1, 3]\n",
        "columns = ['userId', 'movieId', 'rating']\n",
        "\n",
        "# 행렬에서 a.T를 하면 행, 열이 바뀐다.\n",
        "test_df = pd.DataFrame(np.asarray([users, movies, ratings]).T, columns=columns)\n",
        "test_df"
      ],
      "execution_count": 12,
      "outputs": [
        {
          "output_type": "execute_result",
          "data": {
            "text/html": [
              "<div>\n",
              "<style scoped>\n",
              "    .dataframe tbody tr th:only-of-type {\n",
              "        vertical-align: middle;\n",
              "    }\n",
              "\n",
              "    .dataframe tbody tr th {\n",
              "        vertical-align: top;\n",
              "    }\n",
              "\n",
              "    .dataframe thead th {\n",
              "        text-align: right;\n",
              "    }\n",
              "</style>\n",
              "<table border=\"1\" class=\"dataframe\">\n",
              "  <thead>\n",
              "    <tr style=\"text-align: right;\">\n",
              "      <th></th>\n",
              "      <th>userId</th>\n",
              "      <th>movieId</th>\n",
              "      <th>rating</th>\n",
              "    </tr>\n",
              "  </thead>\n",
              "  <tbody>\n",
              "    <tr>\n",
              "      <th>0</th>\n",
              "      <td>0</td>\n",
              "      <td>0</td>\n",
              "      <td>4</td>\n",
              "    </tr>\n",
              "    <tr>\n",
              "      <th>1</th>\n",
              "      <td>0</td>\n",
              "      <td>1</td>\n",
              "      <td>5</td>\n",
              "    </tr>\n",
              "    <tr>\n",
              "      <th>2</th>\n",
              "      <td>1</td>\n",
              "      <td>1</td>\n",
              "      <td>5</td>\n",
              "    </tr>\n",
              "    <tr>\n",
              "      <th>3</th>\n",
              "      <td>1</td>\n",
              "      <td>2</td>\n",
              "      <td>3</td>\n",
              "    </tr>\n",
              "    <tr>\n",
              "      <th>4</th>\n",
              "      <td>2</td>\n",
              "      <td>0</td>\n",
              "      <td>4</td>\n",
              "    </tr>\n",
              "    <tr>\n",
              "      <th>5</th>\n",
              "      <td>2</td>\n",
              "      <td>1</td>\n",
              "      <td>4</td>\n",
              "    </tr>\n",
              "    <tr>\n",
              "      <th>6</th>\n",
              "      <td>3</td>\n",
              "      <td>0</td>\n",
              "      <td>5</td>\n",
              "    </tr>\n",
              "    <tr>\n",
              "      <th>7</th>\n",
              "      <td>3</td>\n",
              "      <td>3</td>\n",
              "      <td>2</td>\n",
              "    </tr>\n",
              "    <tr>\n",
              "      <th>8</th>\n",
              "      <td>4</td>\n",
              "      <td>0</td>\n",
              "      <td>1</td>\n",
              "    </tr>\n",
              "    <tr>\n",
              "      <th>9</th>\n",
              "      <td>4</td>\n",
              "      <td>3</td>\n",
              "      <td>4</td>\n",
              "    </tr>\n",
              "    <tr>\n",
              "      <th>10</th>\n",
              "      <td>5</td>\n",
              "      <td>3</td>\n",
              "      <td>5</td>\n",
              "    </tr>\n",
              "    <tr>\n",
              "      <th>11</th>\n",
              "      <td>6</td>\n",
              "      <td>1</td>\n",
              "      <td>1</td>\n",
              "    </tr>\n",
              "    <tr>\n",
              "      <th>12</th>\n",
              "      <td>6</td>\n",
              "      <td>3</td>\n",
              "      <td>3</td>\n",
              "    </tr>\n",
              "  </tbody>\n",
              "</table>\n",
              "</div>"
            ],
            "text/plain": [
              "    userId  movieId  rating\n",
              "0        0        0       4\n",
              "1        0        1       5\n",
              "2        1        1       5\n",
              "3        1        2       3\n",
              "4        2        0       4\n",
              "5        2        1       4\n",
              "6        3        0       5\n",
              "7        3        3       2\n",
              "8        4        0       1\n",
              "9        4        3       4\n",
              "10       5        3       5\n",
              "11       6        1       1\n",
              "12       6        3       3"
            ]
          },
          "metadata": {
            "tags": []
          },
          "execution_count": 12
        }
      ]
    },
    {
      "cell_type": "code",
      "metadata": {
        "id": "uaO8FJ3hTnzU",
        "colab_type": "code",
        "outputId": "5627d393-2ae8-4463-9c13-92e6dff1e4bd",
        "colab": {
          "base_uri": "https://localhost:8080/",
          "height": 89
        }
      },
      "source": [
        "num_users = len(test_df.userId.unique()) # 사용자 id에서 유일한 값을 찾는다.\n",
        "num_items = len(test_df.movieId.unique())\n",
        "emb_size = len(test_df.columns)          # 전체 열수로 임베드 레이어 사이즈를 정함\n",
        "print(\"num_users: {}, num_items: {}, emb_size: {}\".format(num_users, num_items, emb_size))\n",
        "\n",
        "users = torch.LongTensor(test_df.userId.values) # 사용자 id로 long형 텐서를 만든다.(1차원)\n",
        "items = torch.LongTensor(test_df.movieId.values)\n",
        "user_emb = nn.Embedding(num_users, emb_size)    # 사용자의 수로 임베딩한다.\n",
        "item_emb = nn.Embedding(num_items, emb_size)\n",
        "print(\"embeddings: {}, {}\".format(user_emb,item_emb))\n",
        "\n",
        "U = user_emb(users)\n",
        "V = item_emb(items)\n",
        "\n",
        "# 임베딩의 각 행을 Dot Product해준다\n",
        "# 아래의 텐서는 각 행의 결과이니 총 13개가 된다\n",
        "(U * V).sum(1)"
      ],
      "execution_count": 13,
      "outputs": [
        {
          "output_type": "stream",
          "text": [
            "num_users: 7, num_items: 4, emb_size: 3\n",
            "embeddings: Embedding(7, 3), Embedding(4, 3)\n"
          ],
          "name": "stdout"
        },
        {
          "output_type": "execute_result",
          "data": {
            "text/plain": [
              "tensor([ 0.1816,  2.6892,  4.2526, -2.0913,  0.7216, -0.1684, -1.3953,  0.7173,\n",
              "        -1.4833,  1.1095,  0.9377, -1.1713, -0.6194], grad_fn=<SumBackward1>)"
            ]
          },
          "metadata": {
            "tags": []
          },
          "execution_count": 13
        }
      ]
    },
    {
      "cell_type": "markdown",
      "metadata": {
        "id": "usTQxqpRYjBQ",
        "colab_type": "text"
      },
      "source": [
        "# **행렬분해 모델 학습**\n",
        "이제 실제 모델 클래스를 사용해서 행렬분해모델을 학습시킨다. 아래의 예제에서는 임베딩의 사이즈를 100개로 했는데, 이것은 사용자들과 영화들의 관계 즉 평점정보에서 100개의 특성을 뽑아낸다는 것의 의미이다."
      ]
    },
    {
      "cell_type": "code",
      "metadata": {
        "id": "dLJ-H29LYyyL",
        "colab_type": "code",
        "outputId": "d58bb8e7-33ef-490d-d426-85b0dc133592",
        "colab": {
          "base_uri": "https://localhost:8080/",
          "height": 35
        }
      },
      "source": [
        "# 실제 학습 데이터에서 사용자와 영화의 갯수를 구한다.\n",
        "num_users = len(df_train.userId.unique())\n",
        "num_items = len(df_train.movieId.unique())\n",
        "\n",
        "num_users, num_items"
      ],
      "execution_count": 25,
      "outputs": [
        {
          "output_type": "execute_result",
          "data": {
            "text/plain": [
              "(610, 8998)"
            ]
          },
          "metadata": {
            "tags": []
          },
          "execution_count": 25
        }
      ]
    },
    {
      "cell_type": "code",
      "metadata": {
        "id": "lHP9SEiyZUK_",
        "colab_type": "code",
        "outputId": "e71dc9fc-306c-4d75-c042-2c9d85f29a5e",
        "colab": {
          "base_uri": "https://localhost:8080/",
          "height": 107
        }
      },
      "source": [
        "# 행렬분해 모델을 만든다\n",
        "# 임베딩(특성)의 갯수는 100개로 한다\n",
        "model = MatrixFactorization(num_users, num_items, emb_size=100)\n",
        "model"
      ],
      "execution_count": 26,
      "outputs": [
        {
          "output_type": "stream",
          "text": [
            "asas\n"
          ],
          "name": "stdout"
        },
        {
          "output_type": "execute_result",
          "data": {
            "text/plain": [
              "MatrixFactorization(\n",
              "  (user_emb): Embedding(610, 100)\n",
              "  (item_emb): Embedding(8998, 100)\n",
              ")"
            ]
          },
          "metadata": {
            "tags": []
          },
          "execution_count": 26
        }
      ]
    },
    {
      "cell_type": "code",
      "metadata": {
        "id": "Z1sSAqQBbZNo",
        "colab_type": "code",
        "colab": {}
      },
      "source": [
        "# 결과 로스\n",
        "def validation_loss(model, unsqueeze=False):\n",
        "  model.eval()   # 모델을 불러와서 테스트하는 용도이다. model.train은 학습용\n",
        "  users = torch.LongTensor(df_val.userId.values)\n",
        "  items = torch.LongTensor(df_val.movieId.values)\n",
        "  ratings = torch.FloatTensor(df_val.rating.values)\n",
        "  if unsqueeze:\n",
        "    ratings = ratings.unsqueeze(1)   # unsqueeze()는 특정 위치에 1인 차원을 추가한다. 즉 1차원이 2차원으로 된다. 그 반대도 있다.\n",
        "  y_hat = model(users, items)\n",
        "  loss = F.mse_loss(y_hat, ratings)\n",
        "  print(\"validation loss {:.3f}\".format(loss.item()))"
      ],
      "execution_count": 0,
      "outputs": []
    },
    {
      "cell_type": "code",
      "metadata": {
        "id": "u3MH6Y14jPce",
        "colab_type": "code",
        "colab": {}
      },
      "source": [
        "def train_mf(model, epochs=10, lr=0.01, wd=0.0, unsqueeze=False):\n",
        "    # epochs는 몇번 돌릴것인가 이고 밑에건 모델을 최적화 시키는 것이다.\n",
        "    # lr은 learning rate로 경사하강법에서 이것을 곱해서 다음지점(가중치)를 구한다.\n",
        "    # learning rate를 너무 크지도 작지도 않은 적절한 값으로 해야 학습이 잘된다.\n",
        "    optimizer = torch.optim.Adam(model.parameters(), lr=lr, weight_decay=wd)\n",
        "    model.train()\n",
        "    for i in range(epochs):\n",
        "        users = torch.LongTensor(df_train.userId.values)\n",
        "        items = torch.LongTensor(df_train.movieId.values)\n",
        "        ratings = torch.FloatTensor(df_train.rating.values)\n",
        "        if unsqueeze:\n",
        "            ratings = ratings.unsqueeze(1)\n",
        "        y_hat = model(users, items) # 순전파 단계(여기서 ratings을 계산(예측))\n",
        "        loss = F.mse_loss(y_hat, ratings) # 실제 ratings와 비교하여 loss를 계산\n",
        "        # 역전파 단계를 하기 전에 가중치들(매개변수)을 0을 초기화 시킨다. \n",
        "        # 왜냐하면 backward()를 하면 가중치가 누적이 되기떄문이다.\n",
        "        optimizer.zero_grad()\n",
        "        loss.backward()             # 역전파 단계\n",
        "        optimizer.step()            # 매개변수 갱신\n",
        "        print(loss.item()) \n",
        "    validation_loss(model, unsqueeze)  # 학습된 모델에서 loss를 출력한다."
      ],
      "execution_count": 0,
      "outputs": []
    },
    {
      "cell_type": "markdown",
      "metadata": {
        "id": "YOBITgU8EiFL",
        "colab_type": "text"
      },
      "source": [
        "순전파 - input 값이 은닉층을 지나며 가중치를 계산하여 마지막에 output 결과를 만들어 내는 것  \n",
        "역전파 - 결과 값을 통해서 다시 역으로 input 방향으로 오차를 다시 보내며 가중치를 재업데이트 하는 것  \n",
        "  \n",
        "순전파의 결과값에서 오차(error)가 나오는데 이 오차를 다시 역방향으로 보내면서 가중치를 계산하면서 오차를 적용시킨다. 결과에 많이 미친 노드에 다 많은 오차를 돌려준다.  \n",
        "  \n",
        "weight decay는 오버피팅을 억제하는 방법중 하나이다.  \n",
        "오버피팅은 모델이 너무 훈련 데이터에만 지나치게 적응하여 시험데이터에 제대로 반응하지 않는 현상이다. 이 오버피팅은 가중치값이 커서 발생하는 경우가 많다. weight decay의 값이 커질수록 가중치의 값이 작아지게되고 오버피팅 현상을 해소할수 있다."
      ]
    },
    {
      "cell_type": "code",
      "metadata": {
        "id": "275h4qwJtNKG",
        "colab_type": "code",
        "outputId": "ef0d8954-61e7-4815-f9e1-9d9809c47233",
        "colab": {
          "base_uri": "https://localhost:8080/",
          "height": 413
        }
      },
      "source": [
        "train_mf(model, epochs=10, lr=0.1)"
      ],
      "execution_count": 29,
      "outputs": [
        {
          "output_type": "stream",
          "text": [
            "aaaa\n",
            "12.908639907836914\n",
            "aaaa\n",
            "4.843044281005859\n",
            "aaaa\n",
            "2.6098411083221436\n",
            "aaaa\n",
            "3.085411787033081\n",
            "aaaa\n",
            "0.8479647636413574\n",
            "aaaa\n",
            "1.8237531185150146\n",
            "aaaa\n",
            "2.655244827270508\n",
            "aaaa\n",
            "2.132136583328247\n",
            "aaaa\n",
            "1.0890127420425415\n",
            "aaaa\n",
            "0.9774454236030579\n",
            "aaaa\n",
            "validation loss 1.849\n"
          ],
          "name": "stdout"
        }
      ]
    },
    {
      "cell_type": "code",
      "metadata": {
        "id": "SD4c4l6ztlZ_",
        "colab_type": "code",
        "outputId": "18a2d72e-1b48-4ea9-c4c9-f3bd956a9bf6",
        "colab": {
          "base_uri": "https://localhost:8080/",
          "height": 305
        }
      },
      "source": [
        "train_mf(model, epochs=15, lr=0.01)"
      ],
      "execution_count": 19,
      "outputs": [
        {
          "output_type": "stream",
          "text": [
            "1.64070463180542\n",
            "1.0032434463500977\n",
            "0.7114315032958984\n",
            "0.6612184643745422\n",
            "0.7262377142906189\n",
            "0.8042191863059998\n",
            "0.8434268236160278\n",
            "0.8348641395568848\n",
            "0.7922900319099426\n",
            "0.7366553544998169\n",
            "0.6869567036628723\n",
            "0.6552647352218628\n",
            "0.6446753144264221\n",
            "0.6500727534294128\n",
            "0.6615650057792664\n",
            "validation loss 0.821\n"
          ],
          "name": "stdout"
        }
      ]
    },
    {
      "cell_type": "code",
      "metadata": {
        "id": "txdsU98AtsaO",
        "colab_type": "code",
        "outputId": "3eb4bad8-97eb-48bb-8f2f-742801e01750",
        "colab": {
          "base_uri": "https://localhost:8080/",
          "height": 305
        }
      },
      "source": [
        "train_mf(model, epochs=15, lr=0.01)"
      ],
      "execution_count": 20,
      "outputs": [
        {
          "output_type": "stream",
          "text": [
            "0.6693838238716125\n",
            "0.6311591267585754\n",
            "0.6390969157218933\n",
            "0.6144055128097534\n",
            "0.6053226590156555\n",
            "0.6138280630111694\n",
            "0.6117620468139648\n",
            "0.5969518423080444\n",
            "0.5848297476768494\n",
            "0.5829227566719055\n",
            "0.5840951204299927\n",
            "0.5793365836143494\n",
            "0.5687278509140015\n",
            "0.5583487153053284\n",
            "0.5519223213195801\n",
            "validation loss 0.758\n"
          ],
          "name": "stdout"
        }
      ]
    }
  ]
}