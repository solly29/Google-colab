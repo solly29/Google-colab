{
  "nbformat": 4,
  "nbformat_minor": 0,
  "metadata": {
    "colab": {
      "name": "협업필터링test.ipynb",
      "provenance": [],
      "collapsed_sections": [],
      "mount_file_id": "1Ew-GF8wZMnbLWDfCSSXgPERbbuD6rAdj",
      "authorship_tag": "ABX9TyOZo6+A6nLyAc6/C6CkLMa2",
      "include_colab_link": true
    },
    "kernelspec": {
      "name": "python3",
      "display_name": "Python 3"
    }
  },
  "cells": [
    {
      "cell_type": "markdown",
      "metadata": {
        "id": "view-in-github",
        "colab_type": "text"
      },
      "source": [
        "<a href=\"https://colab.research.google.com/github/solly29/Google-colab/blob/master/%ED%98%91%EC%97%85%ED%95%84%ED%84%B0%EB%A7%81test.ipynb\" target=\"_parent\"><img src=\"https://colab.research.google.com/assets/colab-badge.svg\" alt=\"Open In Colab\"/></a>"
      ]
    },
    {
      "cell_type": "code",
      "metadata": {
        "id": "_Ffphbhlsluq",
        "colab_type": "code",
        "colab": {
          "base_uri": "https://localhost:8080/",
          "height": 233
        },
        "outputId": "de9f26e3-a4a6-4346-a596-fd1ed164ed34"
      },
      "source": [
        "!wget http://files.grouplens.org/datasets/movielens/ml-latest-small.zip\n",
        "!ls ml-latest-small.zip"
      ],
      "execution_count": 1,
      "outputs": [
        {
          "output_type": "stream",
          "text": [
            "--2020-04-06 11:30:39--  http://files.grouplens.org/datasets/movielens/ml-latest-small.zip\n",
            "Resolving files.grouplens.org (files.grouplens.org)... 128.101.65.152\n",
            "Connecting to files.grouplens.org (files.grouplens.org)|128.101.65.152|:80... connected.\n",
            "HTTP request sent, awaiting response... 200 OK\n",
            "Length: 978202 (955K) [application/zip]\n",
            "Saving to: ‘ml-latest-small.zip.1’\n",
            "\n",
            "ml-latest-small.zip 100%[===================>] 955.28K   958KB/s    in 1.0s    \n",
            "\n",
            "2020-04-06 11:30:41 (958 KB/s) - ‘ml-latest-small.zip.1’ saved [978202/978202]\n",
            "\n",
            "ml-latest-small.zip\n"
          ],
          "name": "stdout"
        }
      ]
    },
    {
      "cell_type": "code",
      "metadata": {
        "id": "5j9HVtSvtasa",
        "colab_type": "code",
        "colab": {
          "base_uri": "https://localhost:8080/",
          "height": 217
        },
        "outputId": "9a85305b-2cef-41da-de9f-60a9f44f62ed"
      },
      "source": [
        "!unzip ml-latest-small.zip\n",
        "!ls ml-latest-small/"
      ],
      "execution_count": 13,
      "outputs": [
        {
          "output_type": "stream",
          "text": [
            "Archive:  ml-latest-small.zip\n",
            "replace ml-latest-small/links.csv? [y]es, [n]o, [A]ll, [N]one, [r]ename: y\n",
            "  inflating: ml-latest-small/links.csv  \n",
            "replace ml-latest-small/tags.csv? [y]es, [n]o, [A]ll, [N]one, [r]ename: y\n",
            "  inflating: ml-latest-small/tags.csv  \n",
            "replace ml-latest-small/ratings.csv? [y]es, [n]o, [A]ll, [N]one, [r]ename: y\n",
            "  inflating: ml-latest-small/ratings.csv  \n",
            "replace ml-latest-small/README.txt? [y]es, [n]o, [A]ll, [N]one, [r]ename: y\n",
            "  inflating: ml-latest-small/README.txt  \n",
            "replace ml-latest-small/movies.csv? [y]es, [n]o, [A]ll, [N]one, [r]ename: links.csv  movies.csv  ratings.csv  README.txt\ttags.csv\n"
          ],
          "name": "stdout"
        }
      ]
    },
    {
      "cell_type": "code",
      "metadata": {
        "id": "ppSU4M3PuKlL",
        "colab_type": "code",
        "colab": {}
      },
      "source": [
        "from pathlib import Path\n",
        "import pandas as pd # 파이썬에서 사용하는 데이터분석 라이브러리이다.\n",
        "import numpy as np"
      ],
      "execution_count": 0,
      "outputs": []
    },
    {
      "cell_type": "code",
      "metadata": {
        "id": "BggLGcixuVFG",
        "colab_type": "code",
        "colab": {
          "base_uri": "https://localhost:8080/",
          "height": 204
        },
        "outputId": "d33154f4-9df1-4378-a223-31951478fe5e"
      },
      "source": [
        "data = pd.read_csv('./ml-latest-small/ratings.csv') # 트레이닝 데이터를 가지고온다.\n",
        "data.head()"
      ],
      "execution_count": 38,
      "outputs": [
        {
          "output_type": "execute_result",
          "data": {
            "text/html": [
              "<div>\n",
              "<style scoped>\n",
              "    .dataframe tbody tr th:only-of-type {\n",
              "        vertical-align: middle;\n",
              "    }\n",
              "\n",
              "    .dataframe tbody tr th {\n",
              "        vertical-align: top;\n",
              "    }\n",
              "\n",
              "    .dataframe thead th {\n",
              "        text-align: right;\n",
              "    }\n",
              "</style>\n",
              "<table border=\"1\" class=\"dataframe\">\n",
              "  <thead>\n",
              "    <tr style=\"text-align: right;\">\n",
              "      <th></th>\n",
              "      <th>userId</th>\n",
              "      <th>movieId</th>\n",
              "      <th>rating</th>\n",
              "      <th>timestamp</th>\n",
              "    </tr>\n",
              "  </thead>\n",
              "  <tbody>\n",
              "    <tr>\n",
              "      <th>0</th>\n",
              "      <td>1</td>\n",
              "      <td>1</td>\n",
              "      <td>4.0</td>\n",
              "      <td>964982703</td>\n",
              "    </tr>\n",
              "    <tr>\n",
              "      <th>1</th>\n",
              "      <td>1</td>\n",
              "      <td>3</td>\n",
              "      <td>4.0</td>\n",
              "      <td>964981247</td>\n",
              "    </tr>\n",
              "    <tr>\n",
              "      <th>2</th>\n",
              "      <td>1</td>\n",
              "      <td>6</td>\n",
              "      <td>4.0</td>\n",
              "      <td>964982224</td>\n",
              "    </tr>\n",
              "    <tr>\n",
              "      <th>3</th>\n",
              "      <td>1</td>\n",
              "      <td>47</td>\n",
              "      <td>5.0</td>\n",
              "      <td>964983815</td>\n",
              "    </tr>\n",
              "    <tr>\n",
              "      <th>4</th>\n",
              "      <td>1</td>\n",
              "      <td>50</td>\n",
              "      <td>5.0</td>\n",
              "      <td>964982931</td>\n",
              "    </tr>\n",
              "  </tbody>\n",
              "</table>\n",
              "</div>"
            ],
            "text/plain": [
              "   userId  movieId  rating  timestamp\n",
              "0       1        1     4.0  964982703\n",
              "1       1        3     4.0  964981247\n",
              "2       1        6     4.0  964982224\n",
              "3       1       47     5.0  964983815\n",
              "4       1       50     5.0  964982931"
            ]
          },
          "metadata": {
            "tags": []
          },
          "execution_count": 38
        }
      ]
    },
    {
      "cell_type": "markdown",
      "metadata": {
        "id": "5DqwdSjSF5MV",
        "colab_type": "text"
      },
      "source": [
        "# **데이터 인코딩**"
      ]
    },
    {
      "cell_type": "code",
      "metadata": {
        "id": "NkOmP8wXut4c",
        "colab_type": "code",
        "colab": {
          "base_uri": "https://localhost:8080/",
          "height": 233
        },
        "outputId": "18fab040-242d-47e7-d86f-d618d5fef449"
      },
      "source": [
        "# 먼저 데이터를 train과 validation데이터로 나눈다.\n",
        "np.random.seed(3) # 난수 생성 알고리즘 seed\n",
        "msk = np.random.rand(len(data)) < 0.8 # 난수를 생성한다(0~1사이) 이때 0.8보다 작으면 true\n",
        "train = data[msk].copy()              # msk에서 true인 값만 복사한다.\n",
        "val = data[~msk].copy()               # ~는 반전 연산자이다.\n",
        "print(train.head())\n",
        "print(val.head())"
      ],
      "execution_count": 39,
      "outputs": [
        {
          "output_type": "stream",
          "text": [
            "   userId  movieId  rating  timestamp\n",
            "0       1        1     4.0  964982703\n",
            "1       1        3     4.0  964981247\n",
            "2       1        6     4.0  964982224\n",
            "3       1       47     5.0  964983815\n",
            "6       1      101     5.0  964980868\n",
            "    userId  movieId  rating  timestamp\n",
            "4        1       50     5.0  964982931\n",
            "5        1       70     3.0  964982400\n",
            "29       1      543     4.0  964981179\n",
            "30       1      552     4.0  964982653\n",
            "32       1      590     4.0  964982546\n"
          ],
          "name": "stdout"
        }
      ]
    },
    {
      "cell_type": "code",
      "metadata": {
        "id": "DHw7PjP370rw",
        "colab_type": "code",
        "colab": {}
      },
      "source": [
        "# 다음은 Pandas의 컬럼을 범주형의 id로 인코드해주는 함수이다\n",
        "def proc_col(col, train_col=None):\n",
        "    \"\"\" Encodes a pandas column with continous ids. \"\"\"\n",
        "    # train column에서 유일한 row를 찾는다(중복을 제거한다.) 즉 사용자 혹은 영화이다\n",
        "    if train_col is not None:\n",
        "        uniq = train_col.unique()\n",
        "    else:\n",
        "        uniq = col.unique()\n",
        "    # 사용자/영화를 인덱스와 매핑해준다(딕셔너리로 만든다.)\n",
        "    # 인덱스 번호과 원소를 튜플 형태로 뽑아서 딕셔너리에 원소: 인덱스로 저장한다.\n",
        "    name2idx = {o:i for i,o in enumerate(uniq)}\n",
        "    # 그리고 그것을 포맷팅해서 리턴한다\n",
        "    # 반환할때 매핑한 dic과 numpy배열과 영화/사용자의 수를 반환한다.\n",
        "    # numpy는 인수로 받은 칼럼의 값을 name2idx의 키로 넣고 value를 배열로 저장한다.\n",
        "    return name2idx, np.array([name2idx.get(x, -1) for x in col]), len(uniq)"
      ],
      "execution_count": 0,
      "outputs": []
    },
    {
      "cell_type": "code",
      "metadata": {
        "id": "tDfF_DY_AbqC",
        "colab_type": "code",
        "colab": {}
      },
      "source": [
        "# 다음은 실제로 데이터를 인코딩으로 만들어주는 함수이다\n",
        "# 위에서 정의해준 proc_col을 사용한다\n",
        "def encode_data(df, train=None):\n",
        "    \"\"\" Encodes rating data with continous user and movie ids. \n",
        "    If train is provided, encodes df with the same encoding as train.\n",
        "    \"\"\"\n",
        "    df = df.copy()\n",
        "    for col_name in [\"userId\", \"movieId\"]:\n",
        "        train_col = None\n",
        "        if train is not None:\n",
        "            train_col = train[col_name] # train_ol에 userid나 movield의 column을 넣는다. proc_col에 teain column을 넘겨줘야된다.\n",
        "        _,col,_ = proc_col(df[col_name], train_col) # 다른값은 무시하고 배열만 받아온다.\n",
        "        df[col_name] = col              # 인덱스와 배핑한 값으로 바꿔준다.\n",
        "        df = df[df[col_name] >= 0]      # df[col_name]의 값이 -1이면 영화나 사용자가 없다는 뜻이다. 그래서 아예 그 행을 false로 만드는것 같다.\n",
        "    return df"
      ],
      "execution_count": 0,
      "outputs": []
    },
    {
      "cell_type": "code",
      "metadata": {
        "id": "gCOIEKhPFo1_",
        "colab_type": "code",
        "colab": {
          "base_uri": "https://localhost:8080/",
          "height": 233
        },
        "outputId": "de54c7c2-b85c-4ee5-924a-b61dd91df0d1"
      },
      "source": [
        "# Test와 Validation인코딩을 만들어준다\n",
        "# 사용자나 영화에게 순서(숫자)를 부여해준다.\n",
        "df_train = encode_data(train)\n",
        "df_val = encode_data(val, train)\n",
        "print(df_train.head())\n",
        "print(df_val.head())"
      ],
      "execution_count": 42,
      "outputs": [
        {
          "output_type": "stream",
          "text": [
            "   userId  movieId  rating  timestamp\n",
            "0       0        0     4.0  964982703\n",
            "1       0        1     4.0  964981247\n",
            "2       0        2     4.0  964982224\n",
            "3       0        3     5.0  964983815\n",
            "6       0        4     5.0  964980868\n",
            "    userId  movieId  rating  timestamp\n",
            "4        0      388     5.0  964982931\n",
            "5        0      995     3.0  964982400\n",
            "29       0      841     4.0  964981179\n",
            "30       0      567     4.0  964982653\n",
            "32       0      402     4.0  964982546\n"
          ],
          "name": "stdout"
        }
      ]
    },
    {
      "cell_type": "markdown",
      "metadata": {
        "id": "Q0W8wKc2F7xA",
        "colab_type": "text"
      },
      "source": [
        "# **임베딩 레이어**\n",
        "임베딩이란?  \n",
        "범주형 자료를 연속형 백터 형태로 변환시키는 것  \n",
        "**word Embedding**  \n",
        "자연어를 R차원의 백터로 매핑시켜주는 것. 예를들어 cat이나 mat같은 단어를 특정 차원의 백터로 바꾸어주는 것이다."
      ]
    },
    {
      "cell_type": "code",
      "metadata": {
        "id": "pWE2E06EG992",
        "colab_type": "code",
        "colab": {}
      },
      "source": [
        "import torch\n",
        "import torch.nn as nn\n",
        "import torch.nn.functional as F"
      ],
      "execution_count": 0,
      "outputs": []
    },
    {
      "cell_type": "code",
      "metadata": {
        "id": "3TtnY8OPHThU",
        "colab_type": "code",
        "colab": {
          "base_uri": "https://localhost:8080/",
          "height": 125
        },
        "outputId": "86fd4a29-d207-45e6-a73b-f8feaa8426b1"
      },
      "source": [
        "# 아래의 임베딩모델은 최대 10명의 사용자나 3개의 아이템에 대한 관계를 표현한다\n",
        "# 임베딩의 숫자들은 랜덤으로 초기화 된다\n",
        "embed = nn.Embedding(10,3) # 10*3의 백터를 만든다. \n",
        "# 10명까지의 id이니 6개를 넣어준다\n",
        "a = torch.LongTensor([[1,2,0,4,5,1]])\n",
        "embed(a)"
      ],
      "execution_count": 44,
      "outputs": [
        {
          "output_type": "execute_result",
          "data": {
            "text/plain": [
              "tensor([[[ 0.2001, -0.8148, -0.5525],\n",
              "         [-0.5615,  0.5931, -0.9103],\n",
              "         [ 1.1764, -0.0107,  0.3172],\n",
              "         [-0.2186,  0.0339,  2.1429],\n",
              "         [ 0.8300,  0.8949, -0.1932],\n",
              "         [ 0.2001, -0.8148, -0.5525]]], grad_fn=<EmbeddingBackward>)"
            ]
          },
          "metadata": {
            "tags": []
          },
          "execution_count": 44
        }
      ]
    },
    {
      "cell_type": "markdown",
      "metadata": {
        "id": "b-TWTxS-M86C",
        "colab_type": "text"
      },
      "source": [
        "# **행렬분해 모델**\n",
        "임베딩 두개의 행 즉 벡터들의 각각 내적곱을 하는 역할을 하는 모델이다."
      ]
    },
    {
      "cell_type": "code",
      "metadata": {
        "id": "YU-yrIsTODEi",
        "colab_type": "code",
        "colab": {}
      },
      "source": [
        "class MatrixFactorization(nn.Module):\n",
        "  # init은 생성자와 같다. 메소드이름 양옆에 _가 있으면 외부에서 사용하지 말라는 뜻이다.\n",
        "  # __는 약속되어있는 메소드이다.(아마)\n",
        "  def __init__(self, num_users, num_items, emb_size=100):\n",
        "    super().__init__() # 부모 생성자 호출\n",
        "    self.user_emb = nn.Embedding(num_users, emb_size)\n",
        "    self.item_emb = nn.Embedding(num_items, emb_size)\n",
        "    #  정규분포를 사용해 임베딩을 초기화한다\n",
        "    #  입베드 가중치 초기화(최소 0, 최대 0.05)\n",
        "    self.user_emb.weight.data.uniform_(0, 0.05)\n",
        "    self.item_emb.weight.data.uniform_(0, 0.05)\n",
        "  \n",
        "  # 여기서 내적곱을 해준다.\n",
        "  def forward(self, u, v):\n",
        "    u = self.user_emb(u)\n",
        "    v = self.item_emb(v)\n",
        "    return (u*v).sum(1)"
      ],
      "execution_count": 0,
      "outputs": []
    },
    {
      "cell_type": "markdown",
      "metadata": {
        "id": "Eq4EvjqMYN4K",
        "colab_type": "text"
      },
      "source": [
        "밑의 내용은 위의 행렬분해 모델이 하는일을 절차적으로 작성한것이다.  \n",
        "밑의 내용은 학습단계가 없는 절차이다."
      ]
    },
    {
      "cell_type": "code",
      "metadata": {
        "id": "m1GwwrAbRU6J",
        "colab_type": "code",
        "colab": {
          "base_uri": "https://localhost:8080/",
          "height": 452
        },
        "outputId": "8f25582c-147c-4e4e-d8a8-d92d804e001a"
      },
      "source": [
        "# 임의의 테스트 데이터를 만들어본다\n",
        "# 사용자는 6명 영화는 3개로 이루어져있다\n",
        "# 사용자와 영화 평점을 각 행렬에 넣고 Pandas DF를 생성\n",
        "users = [0, 0, 1, 1, 2, 2, 3, 3, 4, 4, 5, 6, 6]\n",
        "movies = [0, 1, 1, 2, 0, 1, 0, 3, 0, 3, 3, 1, 3]\n",
        "ratings = [4, 5, 5, 3, 4, 4, 5, 2, 1, 4, 5, 1, 3]\n",
        "columns = ['userId', 'movieId', 'rating']\n",
        "\n",
        "# 행렬에서 a.T를 하면 행, 열이 바뀐다.\n",
        "test_df = pd.DataFrame(np.asarray([users, movies, ratings]).T, columns=columns)\n",
        "test_df"
      ],
      "execution_count": 59,
      "outputs": [
        {
          "output_type": "execute_result",
          "data": {
            "text/html": [
              "<div>\n",
              "<style scoped>\n",
              "    .dataframe tbody tr th:only-of-type {\n",
              "        vertical-align: middle;\n",
              "    }\n",
              "\n",
              "    .dataframe tbody tr th {\n",
              "        vertical-align: top;\n",
              "    }\n",
              "\n",
              "    .dataframe thead th {\n",
              "        text-align: right;\n",
              "    }\n",
              "</style>\n",
              "<table border=\"1\" class=\"dataframe\">\n",
              "  <thead>\n",
              "    <tr style=\"text-align: right;\">\n",
              "      <th></th>\n",
              "      <th>userId</th>\n",
              "      <th>movieId</th>\n",
              "      <th>rating</th>\n",
              "    </tr>\n",
              "  </thead>\n",
              "  <tbody>\n",
              "    <tr>\n",
              "      <th>0</th>\n",
              "      <td>0</td>\n",
              "      <td>0</td>\n",
              "      <td>4</td>\n",
              "    </tr>\n",
              "    <tr>\n",
              "      <th>1</th>\n",
              "      <td>0</td>\n",
              "      <td>1</td>\n",
              "      <td>5</td>\n",
              "    </tr>\n",
              "    <tr>\n",
              "      <th>2</th>\n",
              "      <td>1</td>\n",
              "      <td>1</td>\n",
              "      <td>5</td>\n",
              "    </tr>\n",
              "    <tr>\n",
              "      <th>3</th>\n",
              "      <td>1</td>\n",
              "      <td>2</td>\n",
              "      <td>3</td>\n",
              "    </tr>\n",
              "    <tr>\n",
              "      <th>4</th>\n",
              "      <td>2</td>\n",
              "      <td>0</td>\n",
              "      <td>4</td>\n",
              "    </tr>\n",
              "    <tr>\n",
              "      <th>5</th>\n",
              "      <td>2</td>\n",
              "      <td>1</td>\n",
              "      <td>4</td>\n",
              "    </tr>\n",
              "    <tr>\n",
              "      <th>6</th>\n",
              "      <td>3</td>\n",
              "      <td>0</td>\n",
              "      <td>5</td>\n",
              "    </tr>\n",
              "    <tr>\n",
              "      <th>7</th>\n",
              "      <td>3</td>\n",
              "      <td>3</td>\n",
              "      <td>2</td>\n",
              "    </tr>\n",
              "    <tr>\n",
              "      <th>8</th>\n",
              "      <td>4</td>\n",
              "      <td>0</td>\n",
              "      <td>1</td>\n",
              "    </tr>\n",
              "    <tr>\n",
              "      <th>9</th>\n",
              "      <td>4</td>\n",
              "      <td>3</td>\n",
              "      <td>4</td>\n",
              "    </tr>\n",
              "    <tr>\n",
              "      <th>10</th>\n",
              "      <td>5</td>\n",
              "      <td>3</td>\n",
              "      <td>5</td>\n",
              "    </tr>\n",
              "    <tr>\n",
              "      <th>11</th>\n",
              "      <td>6</td>\n",
              "      <td>1</td>\n",
              "      <td>1</td>\n",
              "    </tr>\n",
              "    <tr>\n",
              "      <th>12</th>\n",
              "      <td>6</td>\n",
              "      <td>3</td>\n",
              "      <td>3</td>\n",
              "    </tr>\n",
              "  </tbody>\n",
              "</table>\n",
              "</div>"
            ],
            "text/plain": [
              "    userId  movieId  rating\n",
              "0        0        0       4\n",
              "1        0        1       5\n",
              "2        1        1       5\n",
              "3        1        2       3\n",
              "4        2        0       4\n",
              "5        2        1       4\n",
              "6        3        0       5\n",
              "7        3        3       2\n",
              "8        4        0       1\n",
              "9        4        3       4\n",
              "10       5        3       5\n",
              "11       6        1       1\n",
              "12       6        3       3"
            ]
          },
          "metadata": {
            "tags": []
          },
          "execution_count": 59
        }
      ]
    },
    {
      "cell_type": "code",
      "metadata": {
        "id": "uaO8FJ3hTnzU",
        "colab_type": "code",
        "colab": {
          "base_uri": "https://localhost:8080/",
          "height": 89
        },
        "outputId": "0689dbb2-2864-4bb6-8cfe-3ef90ffa2b64"
      },
      "source": [
        "num_users = len(test_df.userId.unique()) # 사용자 id에서 유일한 값을 찾는다.\n",
        "num_items = len(test_df.movieId.unique())\n",
        "emb_size = len(test_df.columns)          # 전체 열수로 임베드 레이어 사이즈를 정함\n",
        "print(\"num_users: {}, num_items: {}, emb_size: {}\".format(num_users, num_items, emb_size))\n",
        "\n",
        "users = torch.LongTensor(test_df.userId.values) # 사용자 id로 long형 텐서를 만든다.(1차원)\n",
        "items = torch.LongTensor(test_df.movieId.values)\n",
        "user_emb = nn.Embedding(num_users, emb_size)    # 사용자의 수로 임베딩한다.\n",
        "item_emb = nn.Embedding(num_items, emb_size)\n",
        "print(\"embeddings: {}, {}\".format(user_emb,item_emb))\n",
        "\n",
        "U = user_emb(users)\n",
        "V = item_emb(items)\n",
        "\n",
        "# 임베딩의 각 행을 Dot Product해준다\n",
        "# 아래의 텐서는 각 행의 결과이니 총 13개가 된다\n",
        "(U * V).sum(1)"
      ],
      "execution_count": 62,
      "outputs": [
        {
          "output_type": "stream",
          "text": [
            "num_users: 7, num_items: 4, emb_size: 3\n",
            "embeddings: Embedding(7, 3), Embedding(4, 3)\n"
          ],
          "name": "stdout"
        },
        {
          "output_type": "execute_result",
          "data": {
            "text/plain": [
              "tensor([-2.3009, -0.1175, -3.3921, -0.0074, -1.4255,  2.0554,  6.6530,  1.7355,\n",
              "         1.1438,  3.4930,  3.7822,  2.0160, -0.3640], grad_fn=<SumBackward1>)"
            ]
          },
          "metadata": {
            "tags": []
          },
          "execution_count": 62
        }
      ]
    },
    {
      "cell_type": "markdown",
      "metadata": {
        "id": "usTQxqpRYjBQ",
        "colab_type": "text"
      },
      "source": [
        "# **행렬분해 모델 학습**\n",
        "이제 실제 모델 클래스를 사용해서 행렬분해모델을 학습시킨다. 아래의 예제에서는 임베딩의 사이즈를 100개로 했는데, 이것은 사용자들과 영화들의 관계 즉 평점정보에서 100개의 특성을 뽑아낸다는 것의 의미이다."
      ]
    },
    {
      "cell_type": "code",
      "metadata": {
        "id": "dLJ-H29LYyyL",
        "colab_type": "code",
        "colab": {
          "base_uri": "https://localhost:8080/",
          "height": 35
        },
        "outputId": "23207276-02bb-4e9d-bc72-6377935fbabe"
      },
      "source": [
        "# 실제 학습 데이터에서 사용자와 영화의 갯수를 구한다.\n",
        "num_users = len(df_train.userId.unique())\n",
        "num_items = len(df_train.movieId.unique())\n",
        "\n",
        "num_users, num_items"
      ],
      "execution_count": 64,
      "outputs": [
        {
          "output_type": "execute_result",
          "data": {
            "text/plain": [
              "(610, 8998)"
            ]
          },
          "metadata": {
            "tags": []
          },
          "execution_count": 64
        }
      ]
    },
    {
      "cell_type": "code",
      "metadata": {
        "id": "lHP9SEiyZUK_",
        "colab_type": "code",
        "colab": {
          "base_uri": "https://localhost:8080/",
          "height": 89
        },
        "outputId": "3c4b0845-18da-4dd5-b93c-637202f75613"
      },
      "source": [
        "# 행렬분해 모델을 만든다\n",
        "# 임베딩(특성)의 갯수는 100개로 한다\n",
        "model = MatrixFactorization(num_users, num_items, emb_size=100)\n",
        "model"
      ],
      "execution_count": 69,
      "outputs": [
        {
          "output_type": "execute_result",
          "data": {
            "text/plain": [
              "MatrixFactorization(\n",
              "  (user_emb): Embedding(610, 100)\n",
              "  (item_emb): Embedding(8998, 100)\n",
              ")"
            ]
          },
          "metadata": {
            "tags": []
          },
          "execution_count": 69
        }
      ]
    },
    {
      "cell_type": "code",
      "metadata": {
        "id": "Z1sSAqQBbZNo",
        "colab_type": "code",
        "colab": {}
      },
      "source": [
        "# 결과 로스\n",
        "def validation_loss(model, unsqueeze=False):\n",
        "  model.eval()   # 모델을 불러와서 테스트하는 용도이다. model.train은 학습용\n",
        "  users = torch.LongTensor(df_val.userId.values)\n",
        "  items = torch.LongTensor(df_val.movieId.values)\n",
        "  ratings = torch.FloatTensor(df_val.rating.values)\n",
        "  if unsqueeze:\n",
        "    ratings = ratings.unsqueeze(1)   # unsqueeze()는 특정 위치에 1인 차원을 추가한다. 즉 1차원이 2차원으로 된다. 그 반대도 있다.\n",
        "  y_hat = model(users, items)\n",
        "  loss = F.mse_loss(y_hat, ratings)\n",
        "  print(\"validation loss {:.3f}\".format(loss.item()))"
      ],
      "execution_count": 0,
      "outputs": []
    },
    {
      "cell_type": "code",
      "metadata": {
        "id": "u3MH6Y14jPce",
        "colab_type": "code",
        "colab": {}
      },
      "source": [
        "def train_mf(model, epochs=10, lr=0.01, wd=0.0, unsqueeze=False):\n",
        "    optimizer = torch.optim.Adam(model.parameters(), lr=lr, weight_decay=wd)\n",
        "    model.train()\n",
        "    for i in range(epochs):\n",
        "        users = torch.LongTensor(df_train.userId.values)\n",
        "        items = torch.LongTensor(df_train.movieId.values)\n",
        "        ratings = torch.FloatTensor(df_train.rating.values)\n",
        "        if unsqueeze:\n",
        "            ratings = ratings.unsqueeze(1)\n",
        "        y_hat = model(users, items)\n",
        "        loss = F.mse_loss(y_hat, ratings)\n",
        "        optimizer.zero_grad()\n",
        "        loss.backward()\n",
        "        optimizer.step()\n",
        "        print(loss.item()) \n",
        "    validation_loss(model, unsqueeze)"
      ],
      "execution_count": 0,
      "outputs": []
    },
    {
      "cell_type": "code",
      "metadata": {
        "id": "275h4qwJtNKG",
        "colab_type": "code",
        "colab": {
          "base_uri": "https://localhost:8080/",
          "height": 215
        },
        "outputId": "f9883c61-03e8-4ee2-ce48-612a60f19c2c"
      },
      "source": [
        "train_mf(model, epochs=10, lr=0.1)"
      ],
      "execution_count": 77,
      "outputs": [
        {
          "output_type": "stream",
          "text": [
            "12.912641525268555\n",
            "4.853155612945557\n",
            "2.5825676918029785\n",
            "3.0984506607055664\n",
            "0.8484869003295898\n",
            "1.8192087411880493\n",
            "2.6522247791290283\n",
            "2.1290364265441895\n",
            "1.0842359066009521\n",
            "0.9741180539131165\n",
            "validation loss 1.849\n"
          ],
          "name": "stdout"
        }
      ]
    },
    {
      "cell_type": "code",
      "metadata": {
        "id": "SD4c4l6ztlZ_",
        "colab_type": "code",
        "colab": {
          "base_uri": "https://localhost:8080/",
          "height": 305
        },
        "outputId": "2cfb374c-7edd-4ab0-ce58-a95f5aa0ba08"
      },
      "source": [
        "train_mf(model, epochs=15, lr=0.01)"
      ],
      "execution_count": 78,
      "outputs": [
        {
          "output_type": "stream",
          "text": [
            "1.6429224014282227\n",
            "1.0038965940475464\n",
            "0.7109116315841675\n",
            "0.6600945591926575\n",
            "0.7254007458686829\n",
            "0.8041999340057373\n",
            "0.8441740870475769\n",
            "0.8360230326652527\n",
            "0.7934552431106567\n",
            "0.73747718334198\n",
            "0.6872064471244812\n",
            "0.6549003720283508\n",
            "0.6438843607902527\n",
            "0.6492083668708801\n",
            "0.6609736680984497\n",
            "validation loss 0.821\n"
          ],
          "name": "stdout"
        }
      ]
    },
    {
      "cell_type": "code",
      "metadata": {
        "id": "txdsU98AtsaO",
        "colab_type": "code",
        "colab": {
          "base_uri": "https://localhost:8080/",
          "height": 305
        },
        "outputId": "aac62b02-f68e-454c-9cb5-e747c78ee777"
      },
      "source": [
        "train_mf(model, epochs=15, lr=0.01)"
      ],
      "execution_count": 79,
      "outputs": [
        {
          "output_type": "stream",
          "text": [
            "0.6692343950271606\n",
            "0.6307780742645264\n",
            "0.6390232443809509\n",
            "0.6141684055328369\n",
            "0.6048913598060608\n",
            "0.613497793674469\n",
            "0.6116117238998413\n",
            "0.5967697501182556\n",
            "0.5845322012901306\n",
            "0.5826342701911926\n",
            "0.5839332342147827\n",
            "0.5792615413665771\n",
            "0.5686116218566895\n",
            "0.558143675327301\n",
            "0.5517244338989258\n",
            "validation loss 0.759\n"
          ],
          "name": "stdout"
        }
      ]
    }
  ]
}